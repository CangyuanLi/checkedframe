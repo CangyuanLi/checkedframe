{
 "cells": [
  {
   "cell_type": "code",
   "execution_count": 9,
   "id": "2b364b0b",
   "metadata": {},
   "outputs": [],
   "source": [
    "import checkedframe as cf\n",
    "import polars as pl\n",
    "\n",
    "\n",
    "class S(cf.Schema):\n",
    "    customer_id = cf.String()\n",
    "    checking_balance = cf.Float64()\n",
    "    savings_balance = cf.Float64()\n",
    "\n",
    "\n",
    "df = pl.DataFrame(\n",
    "    {\n",
    "        \"customer_id\": [\"TV09\", \"DTG9\"],\n",
    "        \"checking_balance\": [400.4, 20.2],\n",
    "        \"savings_balance\": [1_000.1, 89.91],\n",
    "    }\n",
    ")"
   ]
  },
  {
   "cell_type": "code",
   "execution_count": null,
   "id": "90756f61",
   "metadata": {},
   "outputs": [
    {
     "ename": "SchemaError",
     "evalue": "Found 1 error(s)\n  checking_balance: 1 error(s)\n    - series_series_check failed for 1 / 2 (50.00%) rows: ",
     "output_type": "error",
     "traceback": [
      "\u001b[31m---------------------------------------------------------------------------\u001b[39m",
      "\u001b[31mSchemaError\u001b[39m                               Traceback (most recent call last)",
      "\u001b[36mCell\u001b[39m\u001b[36m \u001b[39m\u001b[32mIn[10]\u001b[39m\u001b[32m, line 11\u001b[39m\n\u001b[32m      6\u001b[39m     \u001b[38;5;129m@cf\u001b[39m.Check(columns=\u001b[33m\"\u001b[39m\u001b[33mchecking_balance\u001b[39m\u001b[33m\"\u001b[39m)\n\u001b[32m      7\u001b[39m     \u001b[38;5;28;01mdef\u001b[39;00m\u001b[38;5;250m \u001b[39m\u001b[34mseries_series_check\u001b[39m(s: pl.Series) -> pl.Series:\n\u001b[32m      8\u001b[39m         \u001b[38;5;28;01mreturn\u001b[39;00m s < \u001b[32m100\u001b[39m\n\u001b[32m---> \u001b[39m\u001b[32m11\u001b[39m \u001b[43mS\u001b[49m\u001b[43m.\u001b[49m\u001b[43mvalidate\u001b[49m\u001b[43m(\u001b[49m\u001b[43mdf\u001b[49m\u001b[43m)\u001b[49m\n",
      "\u001b[36mFile \u001b[39m\u001b[32m~/Documents/Projects/checkedframe/src/checkedframe/_core.py:723\u001b[39m, in \u001b[36mSchema.validate\u001b[39m\u001b[34m(cls, df)\u001b[39m\n\u001b[32m    663\u001b[39m \u001b[38;5;129m@classmethod\u001b[39m\n\u001b[32m    664\u001b[39m \u001b[38;5;28;01mdef\u001b[39;00m\u001b[38;5;250m \u001b[39m\u001b[34mvalidate\u001b[39m(\u001b[38;5;28mcls\u001b[39m, df: nwt.IntoDataFrameT) -> nwt.IntoDataFrameT:\n\u001b[32m    665\u001b[39m \u001b[38;5;250m    \u001b[39m\u001b[33;03m\"\"\"Validate the given DataFrame.\u001b[39;00m\n\u001b[32m    666\u001b[39m \n\u001b[32m    667\u001b[39m \u001b[33;03m    Parameters\u001b[39;00m\n\u001b[32m   (...)\u001b[39m\u001b[32m    721\u001b[39m \u001b[33;03m        MySchema.validate(df)\u001b[39;00m\n\u001b[32m    722\u001b[39m \u001b[33;03m    \"\"\"\u001b[39;00m\n\u001b[32m--> \u001b[39m\u001b[32m723\u001b[39m     \u001b[38;5;28;01mreturn\u001b[39;00m \u001b[43m_validate\u001b[49m\u001b[43m(\u001b[49m\u001b[38;5;28;43mcls\u001b[39;49m\u001b[43m.\u001b[49m\u001b[43m_parse_into_schema\u001b[49m\u001b[43m(\u001b[49m\u001b[43m)\u001b[49m\u001b[43m,\u001b[49m\u001b[43m \u001b[49m\u001b[43mdf\u001b[49m\u001b[43m)\u001b[49m\n",
      "\u001b[36mFile \u001b[39m\u001b[32m~/Documents/Projects/checkedframe/src/checkedframe/_core.py:516\u001b[39m, in \u001b[36m_validate\u001b[39m\u001b[34m(schema, df)\u001b[39m\n\u001b[32m    513\u001b[39m res = _private_interrogate(schema, df)\n\u001b[32m    515\u001b[39m \u001b[38;5;28;01mif\u001b[39;00m \u001b[38;5;129;01mnot\u001b[39;00m res.is_good.all():\n\u001b[32m--> \u001b[39m\u001b[32m516\u001b[39m     \u001b[38;5;28;01mraise\u001b[39;00m SchemaError(\n\u001b[32m    517\u001b[39m         _generate_error_message(\n\u001b[32m    518\u001b[39m             summary_df=res.summary, columns=schema.columns(), n_rows=res.df.shape[\u001b[32m0\u001b[39m]\n\u001b[32m    519\u001b[39m         )\n\u001b[32m    520\u001b[39m     )\n\u001b[32m    522\u001b[39m \u001b[38;5;28;01mreturn\u001b[39;00m res.df.to_native()\n",
      "\u001b[31mSchemaError\u001b[39m: Found 1 error(s)\n  checking_balance: 1 error(s)\n    - series_series_check failed for 1 / 2 (50.00%) rows: "
     ]
    }
   ],
   "source": [
    "class S(cf.Schema):\n",
    "    customer_id = cf.String()\n",
    "    checking_balance = cf.Float64()\n",
    "    savings_balance = cf.Float64()\n",
    "\n",
    "    @cf.Check(columns=\"checking_balance\")\n",
    "    def series_series_check(s: pl.Series) -> pl.Series:\n",
    "        return s < 100\n",
    "\n",
    "\n",
    "S.interrogate(df).mask"
   ]
  }
 ],
 "metadata": {
  "kernelspec": {
   "display_name": ".venv",
   "language": "python",
   "name": "python3"
  },
  "language_info": {
   "codemirror_mode": {
    "name": "ipython",
    "version": 3
   },
   "file_extension": ".py",
   "mimetype": "text/x-python",
   "name": "python",
   "nbconvert_exporter": "python",
   "pygments_lexer": "ipython3",
   "version": "3.13.3"
  }
 },
 "nbformat": 4,
 "nbformat_minor": 5
}
