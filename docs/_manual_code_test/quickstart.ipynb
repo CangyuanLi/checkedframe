{
 "cells": [
  {
   "cell_type": "code",
   "execution_count": 365,
   "id": "6ea34bb6",
   "metadata": {},
   "outputs": [],
   "source": [
    "import checkedframe as cf\n",
    "\n",
    "\n",
    "def validate(schema, df):\n",
    "    try:\n",
    "        print(schema.validate(df))\n",
    "    except cf.exceptions.SchemaError as e:\n",
    "        print(e)"
   ]
  },
  {
   "cell_type": "markdown",
   "id": "16075c75",
   "metadata": {},
   "source": [
    "# Pandas"
   ]
  },
  {
   "cell_type": "code",
   "execution_count": 366,
   "id": "5902e1c6",
   "metadata": {},
   "outputs": [],
   "source": [
    "import pandas as pd\n",
    "\n",
    "df = pd.DataFrame(\n",
    "    {\n",
    "        \"customer_id\": [\"TYX89\", \"F38J0M\"],\n",
    "        \"balance\": [198, -56],\n",
    "        \"overdraft_protection\": [True, False],\n",
    "    }\n",
    ")"
   ]
  },
  {
   "cell_type": "code",
   "execution_count": 367,
   "id": "a5c12278",
   "metadata": {},
   "outputs": [],
   "source": [
    "import checkedframe as cf\n",
    "\n",
    "\n",
    "class MySchema(cf.Schema):\n",
    "    customer_id = cf.String()\n",
    "    balance = cf.Float64()\n",
    "    overdraft_protection = cf.Boolean()"
   ]
  },
  {
   "cell_type": "code",
   "execution_count": 368,
   "id": "d5c66876",
   "metadata": {},
   "outputs": [
    {
     "name": "stdout",
     "output_type": "stream",
     "text": [
      "Found 1 error(s)\n",
      "  balance: 1 error(s)\n",
      "    - Expected Float64, got Int64\n"
     ]
    }
   ],
   "source": [
    "validate(MySchema, df)"
   ]
  },
  {
   "cell_type": "code",
   "execution_count": 369,
   "id": "62e1c19e",
   "metadata": {},
   "outputs": [],
   "source": [
    "class MySchema(cf.Schema):\n",
    "    customer_id = cf.String()\n",
    "    balance = cf.Float64(cast=True)\n",
    "    overdraft_protection = cf.Boolean()"
   ]
  },
  {
   "cell_type": "code",
   "execution_count": 370,
   "id": "d79c963c",
   "metadata": {},
   "outputs": [
    {
     "name": "stdout",
     "output_type": "stream",
     "text": [
      "  customer_id  balance  overdraft_protection\n",
      "0       TYX89    198.0                  True\n",
      "1      F38J0M    -56.0                 False\n"
     ]
    }
   ],
   "source": [
    "validate(MySchema, df)"
   ]
  },
  {
   "cell_type": "code",
   "execution_count": 371,
   "id": "390af068",
   "metadata": {},
   "outputs": [],
   "source": [
    "class MySchema(cf.Schema):\n",
    "    customer_id = cf.String()\n",
    "    balance = cf.Float64(cast=True)\n",
    "    overdraft_protection = cf.Boolean()\n",
    "\n",
    "    @cf.Check(columns=\"customer_id\")\n",
    "    def check_id_length(s: pd.Series) -> pd.Series:\n",
    "        \"\"\"customer_id must be of length 6\"\"\"\n",
    "        return s.str.len() == 6"
   ]
  },
  {
   "cell_type": "code",
   "execution_count": 372,
   "id": "a3ffaeca",
   "metadata": {},
   "outputs": [
    {
     "name": "stdout",
     "output_type": "stream",
     "text": [
      "Found 1 error(s)\n",
      "  customer_id: 1 error(s)\n",
      "    - check_id_length failed for 1 / 2 (50.00%) rows: customer_id must be of length 6\n"
     ]
    }
   ],
   "source": [
    "validate(MySchema, df)"
   ]
  },
  {
   "cell_type": "code",
   "execution_count": 373,
   "id": "352dae71",
   "metadata": {},
   "outputs": [],
   "source": [
    "class MySchema(cf.Schema):\n",
    "    customer_id = cf.String()\n",
    "    balance = cf.Float64(cast=True)\n",
    "    overdraft_protection = cf.Boolean()\n",
    "\n",
    "    @cf.Check(columns=\"customer_id\")\n",
    "    def check_id_length(s: pd.Series) -> pd.Series:\n",
    "        \"\"\"customer_id must be of length 6\"\"\"\n",
    "        return s.str.len() == 6\n",
    "\n",
    "    @cf.Check\n",
    "    def check_balances_pos_if_protected(df: pd.DataFrame) -> pd.Series:\n",
    "        \"\"\"Balances can only be negative if there is no overdraft protection\"\"\"\n",
    "        return (df[\"balance\"] >= 0) & df[\"overdraft_protection\"]"
   ]
  },
  {
   "cell_type": "code",
   "execution_count": 374,
   "id": "409e8ad2",
   "metadata": {},
   "outputs": [
    {
     "name": "stdout",
     "output_type": "stream",
     "text": [
      "Found 2 error(s)\n",
      "  customer_id: 1 error(s)\n",
      "    - check_id_length failed for 1 / 2 (50.00%) rows: customer_id must be of length 6\n",
      "  * check_balances_pos_if_protected failed for 1 / 2 (50.00%) rows: Balances can only be negative if there is no overdraft protection\n"
     ]
    }
   ],
   "source": [
    "validate(MySchema, df)"
   ]
  },
  {
   "cell_type": "markdown",
   "id": "34def593",
   "metadata": {},
   "source": [
    "# Polars"
   ]
  },
  {
   "cell_type": "code",
   "execution_count": 375,
   "id": "fcb3e7d0",
   "metadata": {},
   "outputs": [],
   "source": [
    "import polars as pl\n",
    "\n",
    "df = pl.DataFrame(\n",
    "    {\n",
    "        \"customer_id\": [\"TYX89\", \"F38J0M\"],\n",
    "        \"balance\": [198, -56],\n",
    "        \"overdraft_protection\": [True, False],\n",
    "    }\n",
    ")"
   ]
  },
  {
   "cell_type": "code",
   "execution_count": 376,
   "id": "91b9e428",
   "metadata": {},
   "outputs": [],
   "source": [
    "import checkedframe as cf\n",
    "\n",
    "\n",
    "class MySchema(cf.Schema):\n",
    "    customer_id = cf.String()\n",
    "    balance = cf.Float64()\n",
    "    overdraft_protection = cf.Boolean()"
   ]
  },
  {
   "cell_type": "code",
   "execution_count": 377,
   "id": "6afffe72",
   "metadata": {},
   "outputs": [
    {
     "name": "stdout",
     "output_type": "stream",
     "text": [
      "Found 1 error(s)\n",
      "  balance: 1 error(s)\n",
      "    - Expected Float64, got Int64\n"
     ]
    }
   ],
   "source": [
    "validate(MySchema, df)"
   ]
  },
  {
   "cell_type": "code",
   "execution_count": 378,
   "id": "3630d54d",
   "metadata": {},
   "outputs": [],
   "source": [
    "class MySchema(cf.Schema):\n",
    "    customer_id = cf.String()\n",
    "    balance = cf.Float64(cast=True)\n",
    "    overdraft_protection = cf.Boolean()"
   ]
  },
  {
   "cell_type": "code",
   "execution_count": 379,
   "id": "75d94202",
   "metadata": {},
   "outputs": [
    {
     "name": "stdout",
     "output_type": "stream",
     "text": [
      "shape: (2, 3)\n",
      "┌─────────────┬─────────┬──────────────────────┐\n",
      "│ customer_id ┆ balance ┆ overdraft_protection │\n",
      "│ ---         ┆ ---     ┆ ---                  │\n",
      "│ str         ┆ f64     ┆ bool                 │\n",
      "╞═════════════╪═════════╪══════════════════════╡\n",
      "│ TYX89       ┆ 198.0   ┆ true                 │\n",
      "│ F38J0M      ┆ -56.0   ┆ false                │\n",
      "└─────────────┴─────────┴──────────────────────┘\n"
     ]
    }
   ],
   "source": [
    "validate(MySchema, df)"
   ]
  },
  {
   "cell_type": "code",
   "execution_count": 380,
   "id": "6de7ede4",
   "metadata": {},
   "outputs": [],
   "source": [
    "class MySchema(cf.Schema):\n",
    "    customer_id = cf.String()\n",
    "    balance = cf.Float64(cast=True)\n",
    "    overdraft_protection = cf.Boolean()\n",
    "\n",
    "    @cf.Check(columns=\"customer_id\")\n",
    "    def check_id_length(name: str) -> pl.Expr:\n",
    "        \"\"\"customer_id must be of length 6\"\"\"\n",
    "        return pl.col(name).str.len_chars() == 6"
   ]
  },
  {
   "cell_type": "code",
   "execution_count": 381,
   "id": "aafe88d7",
   "metadata": {},
   "outputs": [
    {
     "name": "stdout",
     "output_type": "stream",
     "text": [
      "Found 1 error(s)\n",
      "  customer_id: 1 error(s)\n",
      "    - check_id_length failed for 1 / 2 (50.00%) rows: customer_id must be of length 6\n"
     ]
    }
   ],
   "source": [
    "validate(MySchema, df)"
   ]
  },
  {
   "cell_type": "code",
   "execution_count": 382,
   "id": "5cb9bdfb",
   "metadata": {},
   "outputs": [],
   "source": [
    "class MySchema(cf.Schema):\n",
    "    customer_id = cf.String()\n",
    "    balance = cf.Float64(cast=True)\n",
    "    overdraft_protection = cf.Boolean()\n",
    "\n",
    "    @cf.Check(columns=\"customer_id\")\n",
    "    def check_id_length(name: str) -> pl.Expr:\n",
    "        \"\"\"customer_id must be of length 6\"\"\"\n",
    "        return pl.col(name).str.len_chars() == 6\n",
    "\n",
    "    @cf.Check\n",
    "    def check_balances_pos_if_protected() -> pl.Expr:\n",
    "        \"\"\"Balances can only be negative if there is no overdraft protection\"\"\"\n",
    "        return (pl.col(\"balance\") >= 0) & pl.col(\"overdraft_protection\")"
   ]
  },
  {
   "cell_type": "code",
   "execution_count": 383,
   "id": "8bfe0d09",
   "metadata": {},
   "outputs": [
    {
     "name": "stdout",
     "output_type": "stream",
     "text": [
      "Found 2 error(s)\n",
      "  customer_id: 1 error(s)\n",
      "    - check_id_length failed for 1 / 2 (50.00%) rows: customer_id must be of length 6\n",
      "  * check_balances_pos_if_protected failed for 1 / 2 (50.00%) rows: Balances can only be negative if there is no overdraft protection\n"
     ]
    }
   ],
   "source": [
    "validate(MySchema, df)"
   ]
  },
  {
   "cell_type": "markdown",
   "id": "122ef734",
   "metadata": {},
   "source": [
    "# Agnostic"
   ]
  },
  {
   "cell_type": "code",
   "execution_count": 384,
   "id": "a113832d",
   "metadata": {},
   "outputs": [],
   "source": [
    "import polars as pl\n",
    "\n",
    "df = pl.DataFrame(\n",
    "    {\n",
    "        \"customer_id\": [\"TYX89\", \"F38J0M\"],\n",
    "        \"balance\": [198.28, -56],\n",
    "        \"overdraft_protection\": [True, False],\n",
    "    }\n",
    ")"
   ]
  },
  {
   "cell_type": "code",
   "execution_count": 385,
   "id": "9453c6df",
   "metadata": {},
   "outputs": [],
   "source": [
    "import checkedframe as cf\n",
    "\n",
    "\n",
    "class MySchema(cf.Schema):\n",
    "    customer_id = cf.String()\n",
    "    balance = cf.Float64()\n",
    "    overdraft_protection = cf.Boolean()"
   ]
  },
  {
   "cell_type": "code",
   "execution_count": 386,
   "id": "02429e87",
   "metadata": {},
   "outputs": [
    {
     "name": "stdout",
     "output_type": "stream",
     "text": [
      "shape: (2, 3)\n",
      "┌─────────────┬─────────┬──────────────────────┐\n",
      "│ customer_id ┆ balance ┆ overdraft_protection │\n",
      "│ ---         ┆ ---     ┆ ---                  │\n",
      "│ str         ┆ f64     ┆ bool                 │\n",
      "╞═════════════╪═════════╪══════════════════════╡\n",
      "│ TYX89       ┆ 198.28  ┆ true                 │\n",
      "│ F38J0M      ┆ -56.0   ┆ false                │\n",
      "└─────────────┴─────────┴──────────────────────┘\n"
     ]
    }
   ],
   "source": [
    "validate(MySchema, df)"
   ]
  },
  {
   "cell_type": "code",
   "execution_count": 387,
   "id": "927e9494",
   "metadata": {},
   "outputs": [],
   "source": [
    "class MySchema(cf.Schema):\n",
    "    customer_id = cf.String()\n",
    "    balance = cf.Float64(cast=True)\n",
    "    overdraft_protection = cf.Boolean()"
   ]
  },
  {
   "cell_type": "code",
   "execution_count": 388,
   "id": "eba9837e",
   "metadata": {},
   "outputs": [
    {
     "name": "stdout",
     "output_type": "stream",
     "text": [
      "shape: (2, 3)\n",
      "┌─────────────┬─────────┬──────────────────────┐\n",
      "│ customer_id ┆ balance ┆ overdraft_protection │\n",
      "│ ---         ┆ ---     ┆ ---                  │\n",
      "│ str         ┆ f64     ┆ bool                 │\n",
      "╞═════════════╪═════════╪══════════════════════╡\n",
      "│ TYX89       ┆ 198.28  ┆ true                 │\n",
      "│ F38J0M      ┆ -56.0   ┆ false                │\n",
      "└─────────────┴─────────┴──────────────────────┘\n"
     ]
    }
   ],
   "source": [
    "validate(MySchema, df)"
   ]
  },
  {
   "cell_type": "code",
   "execution_count": 389,
   "id": "a5949fc8",
   "metadata": {},
   "outputs": [],
   "source": [
    "class MySchema(cf.Schema):\n",
    "    customer_id = cf.String()\n",
    "    balance = cf.Float64(cast=True)\n",
    "    overdraft_protection = cf.Boolean()\n",
    "\n",
    "    @cf.Check(columns=\"customer_id\")\n",
    "    def check_id_length(name: str) -> cf.Expr:\n",
    "        \"\"\"customer_id must be of length 6\"\"\"\n",
    "        return cf.col(name).str.len_chars() == 6"
   ]
  },
  {
   "cell_type": "code",
   "execution_count": 390,
   "id": "048ef81a",
   "metadata": {},
   "outputs": [
    {
     "name": "stdout",
     "output_type": "stream",
     "text": [
      "Found 1 error(s)\n",
      "  customer_id: 1 error(s)\n",
      "    - check_id_length failed for 1 / 2 (50.00%) rows: customer_id must be of length 6\n"
     ]
    }
   ],
   "source": [
    "validate(MySchema, df)"
   ]
  },
  {
   "cell_type": "code",
   "execution_count": 391,
   "id": "8b1fd0e6",
   "metadata": {},
   "outputs": [],
   "source": [
    "class MySchema(cf.Schema):\n",
    "    customer_id = cf.String()\n",
    "    balance = cf.Float64(cast=True)\n",
    "    overdraft_protection = cf.Boolean()\n",
    "\n",
    "    @cf.Check(columns=\"customer_id\")\n",
    "    def check_id_length(name: str) -> cf.Expr:\n",
    "        \"\"\"customer_id must be of length 6\"\"\"\n",
    "        return cf.col(name).str.len_chars() == 6\n",
    "\n",
    "    @cf.Check\n",
    "    def check_balances_pos_if_protected() -> cf.Expr:\n",
    "        \"\"\"Balances can only be negative if there is no overdraft protection\"\"\"\n",
    "        return (cf.col(\"balance\") >= 0) & cf.col(\"overdraft_protection\")"
   ]
  },
  {
   "cell_type": "code",
   "execution_count": 392,
   "id": "cca870c9",
   "metadata": {},
   "outputs": [
    {
     "name": "stdout",
     "output_type": "stream",
     "text": [
      "Found 2 error(s)\n",
      "  customer_id: 1 error(s)\n",
      "    - check_id_length failed for 1 / 2 (50.00%) rows: customer_id must be of length 6\n",
      "  * check_balances_pos_if_protected failed for 1 / 2 (50.00%) rows: Balances can only be negative if there is no overdraft protection\n"
     ]
    }
   ],
   "source": [
    "validate(MySchema, df)"
   ]
  }
 ],
 "metadata": {
  "kernelspec": {
   "display_name": ".venv",
   "language": "python",
   "name": "python3"
  },
  "language_info": {
   "codemirror_mode": {
    "name": "ipython",
    "version": 3
   },
   "file_extension": ".py",
   "mimetype": "text/x-python",
   "name": "python",
   "nbconvert_exporter": "python",
   "pygments_lexer": "ipython3",
   "version": "3.13.3"
  }
 },
 "nbformat": 4,
 "nbformat_minor": 5
}
